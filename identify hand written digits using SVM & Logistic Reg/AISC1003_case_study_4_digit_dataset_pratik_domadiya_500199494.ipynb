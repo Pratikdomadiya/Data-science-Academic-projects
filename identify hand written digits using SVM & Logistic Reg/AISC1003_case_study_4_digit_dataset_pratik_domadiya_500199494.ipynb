{
 "cells": [
  {
   "cell_type": "markdown",
   "metadata": {},
   "source": [
    "# Case Study 4 - Digit dataset\n",
    "\n",
    "# 2021F-T1 AISC1003 - Machine Learning 1 01 (M07 Group 1)\n",
    "\n",
    "# Prof. Jagmohan Dutta\n",
    "\n",
    "# Name : Pratik Domadiya\n",
    "\n",
    "# Student Id : 500199494\n",
    "\n",
    "# Task : To build at-least two models to identify hand written digits and recommend the best one to be deployed."
   ]
  },
  {
   "cell_type": "code",
   "execution_count": 247,
   "metadata": {},
   "outputs": [],
   "source": [
    "#load the required libraries\n",
    "import pandas as pd\n",
    "import numpy as np\n",
    "import matplotlib.pyplot as plt\n",
    "import seaborn as sns\n",
    "from sklearn.datasets import load_digits"
   ]
  },
  {
   "cell_type": "code",
   "execution_count": 248,
   "metadata": {},
   "outputs": [],
   "source": [
    "#load the dataset\n",
    "data=load_digits()"
   ]
  },
  {
   "cell_type": "code",
   "execution_count": 249,
   "metadata": {},
   "outputs": [
    {
     "name": "stdout",
     "output_type": "stream",
     "text": [
      "<class 'sklearn.utils.Bunch'>\n",
      "(1797, 64)\n"
     ]
    }
   ],
   "source": [
    "print(type(data))\n",
    "print(data.data.shape)# shape of the dataset"
   ]
  },
  {
   "cell_type": "code",
   "execution_count": 250,
   "metadata": {
    "scrolled": true
   },
   "outputs": [
    {
     "name": "stdout",
     "output_type": "stream",
     "text": [
      ".. _digits_dataset:\n",
      "\n",
      "Optical recognition of handwritten digits dataset\n",
      "--------------------------------------------------\n",
      "\n",
      "**Data Set Characteristics:**\n",
      "\n",
      "    :Number of Instances: 5620\n",
      "    :Number of Attributes: 64\n",
      "    :Attribute Information: 8x8 image of integer pixels in the range 0..16.\n",
      "    :Missing Attribute Values: None\n",
      "    :Creator: E. Alpaydin (alpaydin '@' boun.edu.tr)\n",
      "    :Date: July; 1998\n",
      "\n",
      "This is a copy of the test set of the UCI ML hand-written digits datasets\n",
      "https://archive.ics.uci.edu/ml/datasets/Optical+Recognition+of+Handwritten+Digits\n",
      "\n",
      "The data set contains images of hand-written digits: 10 classes where\n",
      "each class refers to a digit.\n",
      "\n",
      "Preprocessing programs made available by NIST were used to extract\n",
      "normalized bitmaps of handwritten digits from a preprinted form. From a\n",
      "total of 43 people, 30 contributed to the training set and different 13\n",
      "to the test set. 32x32 bitmaps are divided into nonoverlapping blocks of\n",
      "4x4 and the number of on pixels are counted in each block. This generates\n",
      "an input matrix of 8x8 where each element is an integer in the range\n",
      "0..16. This reduces dimensionality and gives invariance to small\n",
      "distortions.\n",
      "\n",
      "For info on NIST preprocessing routines, see M. D. Garris, J. L. Blue, G.\n",
      "T. Candela, D. L. Dimmick, J. Geist, P. J. Grother, S. A. Janet, and C.\n",
      "L. Wilson, NIST Form-Based Handprint Recognition System, NISTIR 5469,\n",
      "1994.\n",
      "\n",
      ".. topic:: References\n",
      "\n",
      "  - C. Kaynak (1995) Methods of Combining Multiple Classifiers and Their\n",
      "    Applications to Handwritten Digit Recognition, MSc Thesis, Institute of\n",
      "    Graduate Studies in Science and Engineering, Bogazici University.\n",
      "  - E. Alpaydin, C. Kaynak (1998) Cascading Classifiers, Kybernetika.\n",
      "  - Ken Tang and Ponnuthurai N. Suganthan and Xi Yao and A. Kai Qin.\n",
      "    Linear dimensionalityreduction using relevance weighted LDA. School of\n",
      "    Electrical and Electronic Engineering Nanyang Technological University.\n",
      "    2005.\n",
      "  - Claudio Gentile. A New Approximate Maximal Margin Classification\n",
      "    Algorithm. NIPS. 2000.\n"
     ]
    }
   ],
   "source": [
    "print(data.DESCR)"
   ]
  },
  {
   "cell_type": "code",
   "execution_count": 251,
   "metadata": {},
   "outputs": [
    {
     "name": "stdout",
     "output_type": "stream",
     "text": [
      "[0 1 2 ... 8 9 8]\n",
      "(1797,)\n"
     ]
    }
   ],
   "source": [
    "print(data.target)\n",
    "print(data.target.shape)# shape of the target data"
   ]
  },
  {
   "cell_type": "code",
   "execution_count": 252,
   "metadata": {
    "scrolled": true
   },
   "outputs": [
    {
     "data": {
      "image/png": "[encoded data removed]",
      "text/plain": [
       "<Figure size 1440x360 with 4 Axes>"
      ]
     },
     "metadata": {
      "needs_background": "light"
     },
     "output_type": "display_data"
    }
   ],
   "source": [
    "# display the sample data\n",
    "plt.figure(figsize=(20,5))\n",
    "for i, (img, label)  in enumerate (zip(data.data[0:4],data.target[0:4])):\n",
    "    plt.subplot(1,4,i+1)\n",
    "    plt.imshow(np.reshape(img, (8,8)),cmap=plt.cm.gray)\n",
    "    plt.title('Training data : %i\\n' % label)"
   ]
  },
  {
   "cell_type": "markdown",
   "metadata": {},
   "source": [
    "## Hand writing digits classification with LogisticRegression"
   ]
  },
  {
   "cell_type": "code",
   "execution_count": 253,
   "metadata": {},
   "outputs": [],
   "source": [
    "from sklearn.model_selection import train_test_split\n",
    "x_train, x_test, y_train, y_test = train_test_split(data.data, data.target, test_size=0.20, random_state=0)"
   ]
  },
  {
   "cell_type": "code",
   "execution_count": 254,
   "metadata": {},
   "outputs": [],
   "source": [
    "from sklearn.linear_model import LogisticRegression\n",
    "def lr_model(solver):\n",
    "    model_lr=LogisticRegression(solver=solver,multi_class='multinomial',max_iter=50000)\n",
    "    model_lr.fit(x_train,y_train)\n",
    "    pred_all = model.predict(x_test)\n",
    "    print(\" LogisticRegression model accuracy with \"+solver+\" solver: \",model_lr.score(x_test,y_test)*100,\"%\")\n"
   ]
  },
  {
   "cell_type": "markdown",
   "metadata": {},
   "source": [
    "Here 'multi_class' parameter have two options.\n",
    "1. multi_class='ovr' : ovr means one-vs-rest. for ex. if model have n target classes then it will find a score for each \n",
    "class by comparing each class with other classes(kind of binary classification) and predict the class with the highest value.\n",
    "It is useful when we have smaller numbers of target classes are available with the least overlapping between all the classes.\n",
    "Here in handwriting recognition there are some overlapping digits may present. for ex. 7 and 1 looks like similar shape, 3 & 8 \n",
    "is the another case. So i haven't used ovr here but i am using a multinomial option here.\n",
    "\n",
    "2. multi_class='multinomial' : if model have n target classes then it will find a score/probability score for each \n",
    "classes and with the highest score, model will predict that class as an output. It is useful when we have large number of known \n",
    "classes. In our case we knew that dataset have only 10 different target classes so it will perform well and that's why i have used \n",
    "multinomial logistic regression here.\n",
    "    \n",
    "    "
   ]
  },
  {
   "cell_type": "code",
   "execution_count": 255,
   "metadata": {},
   "outputs": [
    {
     "name": "stdout",
     "output_type": "stream",
     "text": [
      " LogisticRegression model accuracy with newton-cg solver:  95.83333333333334 %\n",
      " LogisticRegression model accuracy with lbfgs solver:  95.83333333333334 %\n",
      " LogisticRegression model accuracy with sag solver:  96.11111111111111 %\n",
      " LogisticRegression model accuracy with saga solver:  96.38888888888889 %\n"
     ]
    }
   ],
   "source": [
    "'''\n",
    "'Solver' parameter is used for find out local/global minima for reaching at optimal solution. These are the algorithms used for \n",
    "to find out optimal solution and converge the model. There are total 5 different solver('newton-cg', 'lbfgs', 'sag', 'saga'\n",
    ",'liblinear') are present but liblinear is used for only binary classification problem so I have used another four only and find out\n",
    "what is accuracy of the logistic model by using each one of them.\n",
    "\n",
    "'''\n",
    "solvers=['newton-cg', 'lbfgs', 'sag', 'saga'] #solver names\n",
    "for solver in solvers:\n",
    "    lr_model(solver)\n"
   ]
  },
  {
   "cell_type": "markdown",
   "metadata": {},
   "source": [
    "'Here I got the maximum accuracy with saga solver with 96.38% so i am using that for training the data.'\n"
   ]
  },
  {
   "cell_type": "code",
   "execution_count": 256,
   "metadata": {},
   "outputs": [
    {
     "data": {
      "text/plain": [
       "LogisticRegression(C=1.0, class_weight=None, dual=False, fit_intercept=True,\n",
       "                   intercept_scaling=1, l1_ratio=None, max_iter=50000,\n",
       "                   multi_class='multinomial', n_jobs=None, penalty='l2',\n",
       "                   random_state=None, solver='saga', tol=0.0001, verbose=0,\n",
       "                   warm_start=False)"
      ]
     },
     "execution_count": 256,
     "metadata": {},
     "output_type": "execute_result"
    }
   ],
   "source": [
    "# train model with sag solver \n",
    "model_lr=LogisticRegression(solver='saga',multi_class='multinomial',max_iter=50000)\n",
    "model_lr.fit(x_train,y_train)"
   ]
  },
  {
   "cell_type": "code",
   "execution_count": 257,
   "metadata": {},
   "outputs": [
    {
     "data": {
      "image/png": "[encoded data removed]",
      "text/plain": [
       "<Figure size 1440x360 with 4 Axes>"
      ]
     },
     "metadata": {
      "needs_background": "light"
     },
     "output_type": "display_data"
    }
   ],
   "source": [
    "# display the sample of actual  data\n",
    "plt.figure(figsize=(20,5))\n",
    "for i, (img, label)  in enumerate (zip(x_test[0:4],y_test[0:4])):\n",
    "    plt.subplot(1,4,i+1)\n",
    "    plt.imshow(np.reshape(img, (8,8)),cmap=plt.cm.gray)\n",
    "    plt.title('testing(actual) data : %i\\n' % label)"
   ]
  },
  {
   "cell_type": "code",
   "execution_count": 258,
   "metadata": {
    "scrolled": true
   },
   "outputs": [
    {
     "data": {
      "image/png": "[encoded data removed]",
      "text/plain": [
       "<Figure size 1440x360 with 4 Axes>"
      ]
     },
     "metadata": {
      "needs_background": "light"
     },
     "output_type": "display_data"
    }
   ],
   "source": [
    "pred=model_lr.predict(x_test[0:4])# predict a few data with trained model\n",
    "# display the sample of predicted data\n",
    "plt.figure(figsize=(20,5))\n",
    "for i, (img, label)  in enumerate (zip(x_test[0:4],pred[0:4])):\n",
    "    plt.subplot(1,4,i+1)\n",
    "    plt.imshow(np.reshape(img, (8,8)),cmap=plt.cm.gray)\n",
    "    plt.title('testing(predicted) data : %i\\n' % label)"
   ]
  },
  {
   "cell_type": "code",
   "execution_count": 259,
   "metadata": {},
   "outputs": [],
   "source": [
    "pred_lr_all = model_lr.predict(x_test)# make a prediction of the data"
   ]
  },
  {
   "cell_type": "code",
   "execution_count": 260,
   "metadata": {},
   "outputs": [
    {
     "name": "stdout",
     "output_type": "stream",
     "text": [
      "Accuracy :  96.66666666666667 %\n"
     ]
    }
   ],
   "source": [
    "print(\"Accuracy : \",model_lr.score(x_test,y_test)*100,\"%\")"
   ]
  },
  {
   "cell_type": "code",
   "execution_count": 261,
   "metadata": {},
   "outputs": [
    {
     "name": "stdout",
     "output_type": "stream",
     "text": [
      "[[27  0  0  0  0  0  0  0  0  0]\n",
      " [ 0 31  0  0  0  0  1  0  3  0]\n",
      " [ 0  0 34  2  0  0  0  0  0  0]\n",
      " [ 0  0  0 29  0  0  0  0  0  0]\n",
      " [ 0  0  0  0 30  0  0  0  0  0]\n",
      " [ 0  0  0  0  0 39  0  0  0  1]\n",
      " [ 0  1  0  0  0  0 43  0  0  0]\n",
      " [ 0  1  0  0  1  0  0 37  0  0]\n",
      " [ 0  2  1  0  0  0  0  0 35  1]\n",
      " [ 0  0  0  1  0  1  0  0  2 37]]\n"
     ]
    }
   ],
   "source": [
    "from sklearn import metrics\n",
    "confusion_metrics=metrics.confusion_matrix(y_test,pred_all)# create a confusion metrics\n",
    "print(confusion_metrics)"
   ]
  },
  {
   "cell_type": "code",
   "execution_count": 262,
   "metadata": {},
   "outputs": [
    {
     "data": {
      "text/plain": [
       "Text(0.5, 1, 'Accuracy Score: 0.9666666666666667')"
      ]
     },
     "execution_count": 262,
     "metadata": {},
     "output_type": "execute_result"
    },
    {
     "data": {
      "image/png": "[encoded data removed]",
      "text/plain": [
       "<Figure size 648x648 with 2 Axes>"
      ]
     },
     "metadata": {
      "needs_background": "light"
     },
     "output_type": "display_data"
    }
   ],
   "source": [
    "# display confusion metrics\n",
    "plt.figure(figsize=(9,9))\n",
    "sns.heatmap(confusion_metrics, annot=True, fmt=\".3f\", linewidths=.5, square = True, cmap = 'Reds_r')\n",
    "plt.ylabel('Actual label')\n",
    "plt.xlabel('Predicted label')\n",
    "all_sample_title = 'Accuracy Score: {0}'.format(model_lr.score(x_test, y_test))\n",
    "plt.title(all_sample_title, size = 15)"
   ]
  },
  {
   "cell_type": "code",
   "execution_count": 263,
   "metadata": {},
   "outputs": [
    {
     "name": "stdout",
     "output_type": "stream",
     "text": [
      " F1 Score :  0.966705385678721\n",
      " Recall :  0.9666666666666667\n",
      " Precision :  0.9671569624185903\n",
      "\n",
      "**************************  Classification Report ******************************\n",
      "              precision    recall  f1-score   support\n",
      "\n",
      "           0       1.00      1.00      1.00        27\n",
      "           1       0.92      0.94      0.93        35\n",
      "           2       0.97      0.97      0.97        36\n",
      "           3       0.97      1.00      0.98        29\n",
      "           4       0.97      0.97      0.97        30\n",
      "           5       0.97      0.95      0.96        40\n",
      "           6       1.00      0.98      0.99        44\n",
      "           7       0.97      0.97      0.97        39\n",
      "           8       0.97      0.92      0.95        39\n",
      "           9       0.93      0.98      0.95        41\n",
      "\n",
      "    accuracy                           0.97       360\n",
      "   macro avg       0.97      0.97      0.97       360\n",
      "weighted avg       0.97      0.97      0.97       360\n",
      "\n"
     ]
    }
   ],
   "source": [
    "# display other metrics \n",
    "print(\" F1 Score : \",metrics.f1_score(y_test,pred_lr_all,average='weighted'))\n",
    "print(\" Recall : \",metrics.recall_score(y_test,pred_lr_all,average='weighted'))\n",
    "print(\" Precision : \",metrics.precision_score(y_test,pred_lr_all,average='weighted'))\n",
    "print()\n",
    "print('**************************  Classification Report ******************************')\n",
    "print(metrics.classification_report(y_test,pred_lr_all))"
   ]
  },
  {
   "cell_type": "markdown",
   "metadata": {},
   "source": [
    "# Hand writing digits recognition with SVM"
   ]
  },
  {
   "cell_type": "code",
   "execution_count": 264,
   "metadata": {},
   "outputs": [],
   "source": [
    "# svm \n",
    "from sklearn import svm\n",
    "# modelling the data\n",
    "def svc_model(kernel):\n",
    "    model_svc = svm.SVC(gamma=0.001,C=1.0,kernel=kernel)\n",
    "    model_svc.fit(x_train,y_train)\n",
    "    pred_svc_all=model_svc.predict(x_test)\n",
    "    print(\" SVC model accuracy with \"+kernel+\" kernel: \",model_svc.score(x_test,y_test)*100,\"%\")"
   ]
  },
  {
   "cell_type": "code",
   "execution_count": 265,
   "metadata": {},
   "outputs": [
    {
     "name": "stdout",
     "output_type": "stream",
     "text": [
      " SVC model accuracy with rbf kernel:  99.16666666666667 %\n",
      " SVC model accuracy with poly kernel:  98.61111111111111 %\n",
      " SVC model accuracy with sigmoid kernel:  69.44444444444444 %\n",
      " SVC model accuracy with linear kernel:  97.77777777777777 %\n"
     ]
    }
   ],
   "source": [
    "'''\n",
    "kernels deals with non-linearity and higher dimensions\n",
    "\n",
    "1. Linear kernels\n",
    "The most basic way to use a SVC is with a linear kernel, which means the decision boundary is a straight line (or hyperplane in higher dimensions).\n",
    "Linear kernels are rarely used in practice.\n",
    "\n",
    "2. RBF- radial basis functional\n",
    "It is a general-purpose kernel; used when there is no prior knowledge about the data and working well with linear and \n",
    "non-linear data. \n",
    "\n",
    "3. poly \n",
    "It is popular in image processing. Here our dataset is images so it is performing well.\n",
    "\n",
    "4. sigmoid\n",
    "mostly prefered for neural network.\n",
    "\n",
    "ref : https://data-flair.training/blogs/svm-kernel-functions/\n",
    "'''\n",
    "kernels=['rbf','poly','sigmoid','linear']# list of availbale kernel options\n",
    "for kernel in kernels:\n",
    "    svc_model(kernel)#test all the kernels on model one by one"
   ]
  },
  {
   "cell_type": "markdown",
   "metadata": {},
   "source": [
    "So in our case rbf kernel gives the maximum score for accuracy with 99.16%. So we are going to use that kernel to recognize the \n",
    "handwriting digits."
   ]
  },
  {
   "cell_type": "code",
   "execution_count": 266,
   "metadata": {},
   "outputs": [
    {
     "data": {
      "text/plain": [
       "SVC(C=1.0, cache_size=200, class_weight=None, coef0=0.0,\n",
       "    decision_function_shape='ovr', degree=3, gamma=0.001, kernel='rbf',\n",
       "    max_iter=-1, probability=False, random_state=None, shrinking=True,\n",
       "    tol=0.001, verbose=False)"
      ]
     },
     "execution_count": 266,
     "metadata": {},
     "output_type": "execute_result"
    }
   ],
   "source": [
    "# train the model with rbf kernel\n",
    "model_svc = svm.SVC(gamma=0.001,C=1.0,kernel='rbf')\n",
    "model_svc.fit(x_train,y_train)"
   ]
  },
  {
   "cell_type": "code",
   "execution_count": 267,
   "metadata": {},
   "outputs": [
    {
     "data": {
      "image/png": "[encoded data removed]",
      "text/plain": [
       "<Figure size 1440x360 with 4 Axes>"
      ]
     },
     "metadata": {
      "needs_background": "light"
     },
     "output_type": "display_data"
    }
   ],
   "source": [
    "# display the sample of actual data\n",
    "plt.figure(figsize=(20,5))\n",
    "for i, (img, label)  in enumerate (zip(x_test[0:4],y_test[0:4])):\n",
    "    plt.subplot(1,4,i+1)\n",
    "    plt.imshow(np.reshape(img, (8,8)),cmap=plt.cm.gray)\n",
    "    plt.title('testing(actual) data : %i\\n' % label)"
   ]
  },
  {
   "cell_type": "code",
   "execution_count": 268,
   "metadata": {},
   "outputs": [
    {
     "data": {
      "image/png": "[encoded data removed]",
      "text/plain": [
       "<Figure size 1440x360 with 4 Axes>"
      ]
     },
     "metadata": {
      "needs_background": "light"
     },
     "output_type": "display_data"
    }
   ],
   "source": [
    "pred_svc=model_lr.predict(x_test[0:4])# predict the data with trained model\n",
    "# display the sample of predicted data\n",
    "plt.figure(figsize=(20,5))\n",
    "for i, (img, label)  in enumerate (zip(x_test[0:4],pred_svc[0:4])):\n",
    "    plt.subplot(1,4,i+1)\n",
    "    plt.imshow(np.reshape(img, (8,8)),cmap=plt.cm.gray)\n",
    "    plt.title('testing(predicted) data : %i\\n' % label)"
   ]
  },
  {
   "cell_type": "code",
   "execution_count": 269,
   "metadata": {},
   "outputs": [
    {
     "name": "stdout",
     "output_type": "stream",
     "text": [
      " SVC model accuracy :  99.16666666666667 %\n"
     ]
    }
   ],
   "source": [
    "pred_svc_all=model_svc.predict(x_test)# make prediction on test data\n",
    "# display model accuracy\n",
    "print(\" SVC model accuracy : \",model_svc.score(x_test,y_test)*100,\"%\")"
   ]
  },
  {
   "cell_type": "code",
   "execution_count": 270,
   "metadata": {},
   "outputs": [
    {
     "name": "stdout",
     "output_type": "stream",
     "text": [
      "[[27  0  0  0  0  0  0  0  0  0]\n",
      " [ 0 35  0  0  0  0  0  0  0  0]\n",
      " [ 0  0 36  0  0  0  0  0  0  0]\n",
      " [ 0  0  0 29  0  0  0  0  0  0]\n",
      " [ 0  0  0  0 30  0  0  0  0  0]\n",
      " [ 0  0  0  0  0 39  0  0  0  1]\n",
      " [ 0  0  0  0  0  0 44  0  0  0]\n",
      " [ 0  0  0  0  0  0  0 39  0  0]\n",
      " [ 0  1  0  0  0  0  0  0 38  0]\n",
      " [ 0  0  0  0  0  1  0  0  0 40]]\n"
     ]
    }
   ],
   "source": [
    "# display confusion metrix\n",
    "confusion_metrics_svc=metrics.confusion_matrix(y_test,pred_svc_all)\n",
    "print(confusion_metrics_svc)"
   ]
  },
  {
   "cell_type": "code",
   "execution_count": 271,
   "metadata": {},
   "outputs": [
    {
     "name": "stdout",
     "output_type": "stream",
     "text": [
      " F1 Score :  0.9916681909639657\n",
      " Recall :  0.9916666666666667\n",
      " Precision :  0.9917438271604938\n",
      "\n",
      "**************************  Classification Report ******************************\n",
      "              precision    recall  f1-score   support\n",
      "\n",
      "           0       1.00      1.00      1.00        27\n",
      "           1       0.97      1.00      0.99        35\n",
      "           2       1.00      1.00      1.00        36\n",
      "           3       1.00      1.00      1.00        29\n",
      "           4       1.00      1.00      1.00        30\n",
      "           5       0.97      0.97      0.97        40\n",
      "           6       1.00      1.00      1.00        44\n",
      "           7       1.00      1.00      1.00        39\n",
      "           8       1.00      0.97      0.99        39\n",
      "           9       0.98      0.98      0.98        41\n",
      "\n",
      "    accuracy                           0.99       360\n",
      "   macro avg       0.99      0.99      0.99       360\n",
      "weighted avg       0.99      0.99      0.99       360\n",
      "\n"
     ]
    }
   ],
   "source": [
    "# display other metrics\n",
    "print(\" F1 Score : \",metrics.f1_score(y_test,pred_svc_all,average='weighted'))\n",
    "print(\" Recall : \",metrics.recall_score(y_test,pred_svc_all,average='weighted'))\n",
    "print(\" Precision : \",metrics.precision_score(y_test,pred_svc_all,average='weighted'))\n",
    "print()\n",
    "print('**************************  Classification Report ******************************')\n",
    "print(metrics.classification_report(y_test,pred_svc_all))"
   ]
  },
  {
   "cell_type": "raw",
   "metadata": {},
   "source": [
    "**********************************Final Result******************************\n",
    "\n",
    "Here I have used two ML model to classify handwriting digits. One is Logistic regression and another one is SVM. In Logistic regression. we got an accuracy about 96.38% with sag solver algorithm and with SVM we got about 99.16% accuracy with rbf kernel settings.\n",
    "\n",
    "So in our case SVM with rbf kernel is more suitable model to identify handwriting digits."
   ]
  },
  {
   "cell_type": "markdown",
   "metadata": {},
   "source": [
    "# References :\n",
    "    \n",
    "https://towardsdatascience.com/logistic-regression-using-python-sklearn-numpy-mnist-handwriting-recognition-matplotlib-a6b31e2b166a\n",
    "\n",
    "https://data-flair.training/blogs/svm-kernel-functions/\n",
    "\n",
    "https://chrisalbon.com/code/machine_learning/support_vector_machines/svc_parameters_using_rbf_kernel/\n",
    "https://medium.com/analytics-vidhya/handwritten-digit-recognition-using-logistic-regression-8d3b3f7e31c0\n",
    "https://towardsdatascience.com/svm-and-kernel-svm-fed02bef1200"
   ]
  },
  {
   "cell_type": "code",
   "execution_count": null,
   "metadata": {},
   "outputs": [],
   "source": []
  }
 ],
 "metadata": {
  "kernelspec": {
   "display_name": "Python 3",
   "language": "python",
   "name": "python3"
  },
  "language_info": {
   "codemirror_mode": {
    "name": "ipython",
    "version": 3
   },
   "file_extension": ".py",
   "mimetype": "text/x-python",
   "name": "python",
   "nbconvert_exporter": "python",
   "pygments_lexer": "ipython3",
   "version": "3.7.4"
  }
 },
 "nbformat": 4,
 "nbformat_minor": 2
}
